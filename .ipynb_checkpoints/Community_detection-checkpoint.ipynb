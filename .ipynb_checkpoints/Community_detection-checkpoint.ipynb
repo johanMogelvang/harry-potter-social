{
 "cells": [
  {
   "cell_type": "code",
   "execution_count": 67,
   "id": "cba46880",
   "metadata": {},
   "outputs": [
    {
     "ename": "ModuleNotFoundError",
     "evalue": "No module named 'fa2'",
     "output_type": "error",
     "traceback": [
      "\u001b[0;31m---------------------------------------------------------------------------\u001b[0m",
      "\u001b[0;31mModuleNotFoundError\u001b[0m                       Traceback (most recent call last)",
      "\u001b[0;32m/var/folders/bg/jsf24hsj1ln_rl_40sb3wnj00000gn/T/ipykernel_46699/2317808138.py\u001b[0m in \u001b[0;36m<module>\u001b[0;34m\u001b[0m\n\u001b[1;32m      8\u001b[0m \u001b[0;32mimport\u001b[0m \u001b[0mjson\u001b[0m\u001b[0;34m\u001b[0m\u001b[0;34m\u001b[0m\u001b[0m\n\u001b[1;32m      9\u001b[0m \u001b[0;32mimport\u001b[0m \u001b[0mpickle\u001b[0m\u001b[0;34m\u001b[0m\u001b[0;34m\u001b[0m\u001b[0m\n\u001b[0;32m---> 10\u001b[0;31m \u001b[0;32mfrom\u001b[0m \u001b[0mfa2\u001b[0m \u001b[0;32mimport\u001b[0m \u001b[0mForceAtlas2\u001b[0m\u001b[0;34m\u001b[0m\u001b[0;34m\u001b[0m\u001b[0m\n\u001b[0m\u001b[1;32m     11\u001b[0m \u001b[0;32mfrom\u001b[0m \u001b[0mapp\u001b[0m \u001b[0;32mimport\u001b[0m \u001b[0mapp\u001b[0m\u001b[0;34m\u001b[0m\u001b[0;34m\u001b[0m\u001b[0m\n\u001b[1;32m     12\u001b[0m \u001b[0;34m\u001b[0m\u001b[0m\n",
      "\u001b[0;31mModuleNotFoundError\u001b[0m: No module named 'fa2'"
     ]
    }
   ],
   "source": [
    "import plotly.graph_objects as go\n",
    "import plotly.express as px\n",
    "from dash.dependencies import Input, Output\n",
    "import dash_table\n",
    "import networkx as nx\n",
    "import pandas as pd\n",
    "import numpy as np\n",
    "import json\n",
    "import pickle \n",
    "from fa2 import ForceAtlas2\n",
    "from app import app\n",
    "\n",
    "# needed only if running this as a single page app\n",
    "#external_stylesheets = [dbc.themes.LUX]\n",
    "\n",
    "#app = dash.Dash(__name__, external_stylesheets=external_stylesheets)\n",
    "\n",
    "# change to app.layout if running as single page app instead\n",
    "\n",
    "graph_style = {\"maxHeight\": \"auto\", \"align\":\"center\", \"margin\": \"auto\"}\n",
    "\n",
    "# Read data\n",
    "df = pd.read_csv('HP_enriched_character_df.csv')\n",
    "\n",
    "with open(\"G_exploratory.pickle\", 'rb') as f:\n",
    "    G = pickle.load(f)\n",
    "\n",
    "with open(\"G_exploratory.pickle\", 'rb') as f:\n",
    "    GCC = pickle.load(f)"
   ]
  },
  {
   "cell_type": "markdown",
   "id": "47f7ac0b",
   "metadata": {},
   "source": [
    "## Get partition"
   ]
  },
  {
   "cell_type": "code",
   "execution_count": 57,
   "id": "ef3f9c15",
   "metadata": {},
   "outputs": [],
   "source": [
    "def get_partition(G, attribute, att_list):\n",
    "    node_partition = {}\n",
    "    for att in att_list:\n",
    "        selected_nodes = [n for n,v in G.nodes(data = True) if v[attribute] == att]\n",
    "        node_partition[att] = selected_nodes\n",
    "        \n",
    "    return node_partition"
   ]
  },
  {
   "cell_type": "code",
   "execution_count": 58,
   "id": "7fef4ec5",
   "metadata": {},
   "outputs": [],
   "source": [
    "community_key = 'house'\n",
    "communities = list(pd.unique(df[partition_key]))\n",
    "\n",
    "partition = get_partition(G, community_key, communities)\n"
   ]
  },
  {
   "cell_type": "code",
   "execution_count": null,
   "id": "943d194e",
   "metadata": {},
   "outputs": [],
   "source": [
    "colours = ['#%06X' % randint(0, 0xFFFFFF) for i in range(len(att_list))]\n",
    "\n",
    "partition_colour = dict(zip(selected_nodes, [colours[part]]*len(selected_nodes)))\n",
    "\n",
    "nx.set_node_attributes(G, partition_colour, name = \"NodeColour\")\n",
    "\n"
   ]
  },
  {
   "cell_type": "markdown",
   "id": "9130393a",
   "metadata": {},
   "source": [
    "## Visualize"
   ]
  },
  {
   "cell_type": "code",
   "execution_count": 60,
   "id": "ec07ac39",
   "metadata": {},
   "outputs": [],
   "source": [
    "def get_community_colors(n):\n",
    "    # Random\n",
    "    return ['#%02x%02x%02x' % tuple(np.random.randint(256, size = 3)) for _ in range(n)]\n",
    "\n",
    "no_communities = len(communities)\n",
    "colors = get_community_colors(no_communities)"
   ]
  },
  {
   "cell_type": "code",
   "execution_count": 61,
   "id": "d86ba718",
   "metadata": {},
   "outputs": [
    {
     "ename": "NameError",
     "evalue": "name 'ForceAtlas2' is not defined",
     "output_type": "error",
     "traceback": [
      "\u001b[0;31m---------------------------------------------------------------------------\u001b[0m",
      "\u001b[0;31mNameError\u001b[0m                                 Traceback (most recent call last)",
      "\u001b[0;32m/var/folders/bg/jsf24hsj1ln_rl_40sb3wnj00000gn/T/ipykernel_46699/892439157.py\u001b[0m in \u001b[0;36m<module>\u001b[0;34m\u001b[0m\n\u001b[0;32m----> 1\u001b[0;31m forceatlas2 = ForceAtlas2(\n\u001b[0m\u001b[1;32m      2\u001b[0m                         \u001b[0;31m# Behavior alternatives\u001b[0m\u001b[0;34m\u001b[0m\u001b[0;34m\u001b[0m\u001b[0m\n\u001b[1;32m      3\u001b[0m                         \u001b[0moutboundAttractionDistribution\u001b[0m\u001b[0;34m=\u001b[0m\u001b[0;32mFalse\u001b[0m\u001b[0;34m,\u001b[0m  \u001b[0;31m# Dissuade hubs\u001b[0m\u001b[0;34m\u001b[0m\u001b[0;34m\u001b[0m\u001b[0m\n\u001b[1;32m      4\u001b[0m                         \u001b[0mlinLogMode\u001b[0m \u001b[0;34m=\u001b[0m \u001b[0;32mFalse\u001b[0m\u001b[0;34m,\u001b[0m\u001b[0;34m\u001b[0m\u001b[0;34m\u001b[0m\u001b[0m\n\u001b[1;32m      5\u001b[0m                         \u001b[0madjustSizes\u001b[0m \u001b[0;34m=\u001b[0m \u001b[0;32mFalse\u001b[0m\u001b[0;34m,\u001b[0m\u001b[0;34m\u001b[0m\u001b[0;34m\u001b[0m\u001b[0m\n",
      "\u001b[0;31mNameError\u001b[0m: name 'ForceAtlas2' is not defined"
     ]
    }
   ],
   "source": [
    "forceatlas2 = ForceAtlas2(\n",
    "                        # Behavior alternatives\n",
    "                        outboundAttractionDistribution=False,  # Dissuade hubs\n",
    "                        linLogMode = False,  \n",
    "                        adjustSizes = False,\n",
    "                        #edgeWeightInfluence = 0.1,\n",
    "\n",
    "                        # Performance\n",
    "                        jitterTolerance = 1.0,  # Tolerance\n",
    "                        barnesHutOptimize = True,\n",
    "                        barnesHutTheta = 1.2,\n",
    "                        multiThreaded = False,\n",
    "\n",
    "                        # Tuning\n",
    "                        scalingRatio=0.0001,\n",
    "                        strongGravityMode=False,\n",
    "                        gravity=2, # attracts nodes to the center\n",
    "\n",
    "                        # Log\n",
    "                        verbose=True)"
   ]
  },
  {
   "cell_type": "code",
   "execution_count": null,
   "id": "df1f6eb4",
   "metadata": {},
   "outputs": [],
   "source": [
    "# get node size\n",
    "degrees = dict(GCC_subgraph.degree)\n",
    "degrees.update((key, value*2) for key, value in degrees.items())\n",
    "nx.set_node_attributes(GCC_subgraph, degrees, 'Weight')\n",
    "weights = list(nx.get_node_attributes(GCC_subgraph,'Weight').values())\n",
    "\n",
    "count = 0\n",
    "fig = plt.figure(figsize = (15,15))\n",
    "fig.patch.set_facecolor('silver')\n",
    "\n",
    "# get positions\n",
    "positions = forceatlas2.forceatlas2_networkx_layout(GCC_subgraph, pos = None, iterations = 1000)\n",
    "\n",
    "for com in communities:\n",
    "    count = count + 1.\n",
    "    list_nodes = [nodes for nodes in partition.keys() if partition[nodes] == com]\n",
    "    weights = [GCC_subgraph.nodes[node]['Weight'] for node in list_nodes]\n",
    "    nx.draw_networkx_nodes(GCC_subgraph, positions, list_nodes, node_size = weights, node_color=colors[com])\n",
    "\n",
    "nx.draw_networkx_edges(GCC_subgraph, positions, edge_color=\"gray\", alpha=0.1)\n",
    "plt.axis('off')\n",
    "#plt.savefig('Pictures/network_communities.png')\n",
    "plt.show()"
   ]
  },
  {
   "cell_type": "code",
   "execution_count": 56,
   "id": "e09143dd",
   "metadata": {},
   "outputs": [
    {
     "data": {
      "image/png": "[encoded data removed]",
      "text/plain": [
       "<Figure size 504x504 with 1 Axes>"
      ]
     },
     "metadata": {},
     "output_type": "display_data"
    }
   ],
   "source": [
    "plt.figure(figsize = (7,7))\n",
    "#size = float(len(set(partition.values())))\n",
    "\n",
    "pos = nx.spring_layout(G)\n",
    "\n",
    "count = 0.\n",
    "\n",
    "for com in communities:\n",
    "    count += 1.\n",
    "    list_nodes = [nodes for nodes in partition.keys() if partition[nodes] == com]\n",
    "    nx.draw_networkx_nodes(G, pos, list_nodes, node_size = 20)\n",
    "    #node_color = str(count/ size))\n",
    "\n",
    "nx.draw_networkx_edges(G,pos, alpha=0.5)\n",
    "plt.show()"
   ]
  },
  {
   "cell_type": "code",
   "execution_count": null,
   "id": "c1a3fde7",
   "metadata": {},
   "outputs": [],
   "source": [
    "# Measure quality of partition\n",
    "def quality_of_partition(G, partition):\n",
    "    coverage = nx.coverage(G, partition) #Returns the coverage of a partition.\n",
    "    modularity = nx.modularity(G, communities[, weight, resolution]) #Returns the modularity of the given partition of the graph.\n",
    "    partition_quality = partition_quality(G, partition)# Returns the coverage and performance of a partition of G.\n",
    "    performance = performance(G, partition)\n",
    "    \n",
    "    return "
   ]
  },
  {
   "cell_type": "code",
   "execution_count": null,
   "id": "519bbf83",
   "metadata": {},
   "outputs": [],
   "source": []
  }
 ],
 "metadata": {
  "kernelspec": {
   "display_name": "Python 3 (ipykernel)",
   "language": "python",
   "name": "python3"
  },
  "language_info": {
   "codemirror_mode": {
    "name": "ipython",
    "version": 3
   },
   "file_extension": ".py",
   "mimetype": "text/x-python",
   "name": "python",
   "nbconvert_exporter": "python",
   "pygments_lexer": "ipython3",
   "version": "3.9.7"
  }
 },
 "nbformat": 4,
 "nbformat_minor": 5
}
