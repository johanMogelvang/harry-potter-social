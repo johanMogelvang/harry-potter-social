{
 "cells": [
  {
   "cell_type": "code",
   "execution_count": 69,
   "id": "e285e2db",
   "metadata": {
    "cell_id": "00000-65af3a10-ca06-43f0-929c-c8a8022c20aa",
    "deepnote_cell_type": "code",
    "deepnote_to_be_reexecuted": false,
    "execution_millis": 65,
    "execution_start": 1638363723256,
    "source_hash": "58951eb2"
   },
   "outputs": [],
   "source": [
    "import networkx as nx\n",
    "import pandas as pd\n",
    "import numpy as np\n",
    "import json\n",
    "import pickle \n",
    "import matplotlib.pyplot as plt\n",
    "\n",
    "# needed only if running this as a single page app\n",
    "#external_stylesheets = [dbc.themes.LUX]\n",
    "\n",
    "#app = dash.Dash(__name__, external_stylesheets=external_stylesheets)\n",
    "\n",
    "# change to app.layout if running as single page app instead\n",
    "\n",
    "graph_style = {\"maxHeight\": \"auto\", \"align\":\"center\", \"margin\": \"auto\"}\n",
    "\n",
    "# Read data\n",
    "df = pd.read_csv('HP_enriched_character_df.csv')\n",
    "\n",
    "with open(\"G_exploratory.pickle\", 'rb') as f:\n",
    "    G = pickle.load(f)\n",
    "\n",
    "with open(\"GCC_exploratory.pickle\", 'rb') as f:\n",
    "    GCC = pickle.load(f)"
   ]
  },
  {
   "cell_type": "markdown",
   "id": "9c9ccf5c",
   "metadata": {
    "cell_id": "00001-95832132-f98c-4aed-b27f-e2baf587c714",
    "deepnote_cell_type": "markdown"
   },
   "source": [
    "## Get partition"
   ]
  },
  {
   "cell_type": "code",
   "execution_count": 70,
   "id": "c45b7876",
   "metadata": {
    "cell_id": "00002-e7801d90-8059-47db-8529-8ac61e329639",
    "deepnote_cell_type": "code",
    "deepnote_to_be_reexecuted": false,
    "execution_millis": 8,
    "execution_start": 1638363725335,
    "source_hash": "e60e38c"
   },
   "outputs": [],
   "source": [
    "def get_partition(G, attribute, att_list):\n",
    "    node_partition = {}\n",
    "    for att in att_list:\n",
    "        selected_nodes = [n for n,v in G.nodes(data = True) if v[attribute] == att]\n",
    "        node_partition[att] = selected_nodes\n",
    "        \n",
    "    return node_partition"
   ]
  },
  {
   "cell_type": "code",
   "execution_count": 71,
   "id": "446a2cb8",
   "metadata": {
    "cell_id": "00003-0d513c85-59b4-48a7-abb6-bf3c0719bbac",
    "deepnote_cell_type": "code",
    "deepnote_to_be_reexecuted": false,
    "execution_millis": 36,
    "execution_start": 1638365288612,
    "source_hash": "42aea77a"
   },
   "outputs": [],
   "source": [
    "community_key = 'species'\n",
    "communities = list(pd.unique(df[community_key]))\n",
    "\n",
    "partition = get_partition(GCC, community_key, communities)\n"
   ]
  },
  {
   "cell_type": "markdown",
   "id": "327f38ab",
   "metadata": {
    "cell_id": "00005-59e32325-6082-4724-944e-f9efb83f9d67",
    "deepnote_cell_type": "markdown"
   },
   "source": [
    "## Visualize"
   ]
  },
  {
   "cell_type": "code",
   "execution_count": 72,
   "id": "07a52367",
   "metadata": {
    "cell_id": "00006-ee154632-1310-4ccb-ac51-c29ceb421cd6",
    "deepnote_cell_type": "code",
    "deepnote_to_be_reexecuted": false,
    "execution_millis": 0,
    "execution_start": 1638366196651,
    "source_hash": "89047012",
    "tags": []
   },
   "outputs": [],
   "source": [
    "import random"
   ]
  },
  {
   "cell_type": "code",
   "execution_count": 73,
   "id": "fd240bec",
   "metadata": {
    "cell_id": "00006-e5a62221-1949-4068-907d-1d5eb2737519",
    "deepnote_cell_type": "code",
    "deepnote_output_heights": [
     611
    ],
    "deepnote_to_be_reexecuted": false,
    "execution_millis": 1,
    "execution_start": 1638366200773,
    "source_hash": "224b40c2"
   },
   "outputs": [],
   "source": [
    "def get_community_colors(communities):\n",
    "    if \"Gryffindor\" in communities: \n",
    "        houses = True\n",
    "    else:\n",
    "        houses = False\n",
    "\n",
    "    if houses == False: \n",
    "        col_map = {}\n",
    "        for com in communities:\n",
    "            col_map[com] = '#%06X' % random.randint(0, 0xFFFFFF) #np.random.randint(256)\n",
    "        return col_map\n",
    "    else:\n",
    "        house_col_map = {'Hufflepuff': \"#FFDB00\",\n",
    "           'Slytherin': '#1A472A',\n",
    "           'Gryffindor': '#AE0001',\n",
    "           'Ravenclaw':'#222F5B',\n",
    "           'Thunderbird':'grey',\n",
    "           'Pukwudgie':'lightgrey',\n",
    "           'Horned':'black',\n",
    "           'Wampus':'darkgrey', \n",
    "           'unknown': 'whitesmoke'}\n",
    "        return house_col_map\n",
    "\n",
    "colors = get_community_colors(communities)\n",
    "#colors"
   ]
  },
  {
   "cell_type": "code",
   "execution_count": 74,
   "id": "87814348",
   "metadata": {
    "cell_id": "00007-50ec00f2-4f71-427d-b86a-59e84f599285",
    "deepnote_cell_type": "code",
    "deepnote_to_be_reexecuted": false,
    "execution_millis": 0,
    "execution_start": 1638366204121,
    "source_hash": "8f58b4d0"
   },
   "outputs": [
    {
     "ename": "NameError",
     "evalue": "name 'ForceAtlas2' is not defined",
     "output_type": "error",
     "traceback": [
      "\u001b[0;31m---------------------------------------------------------------------------\u001b[0m",
      "\u001b[0;31mNameError\u001b[0m                                 Traceback (most recent call last)",
      "\u001b[0;32m/var/folders/bg/jsf24hsj1ln_rl_40sb3wnj00000gn/T/ipykernel_46699/892439157.py\u001b[0m in \u001b[0;36m<module>\u001b[0;34m\u001b[0m\n\u001b[0;32m----> 1\u001b[0;31m forceatlas2 = ForceAtlas2(\n\u001b[0m\u001b[1;32m      2\u001b[0m                         \u001b[0;31m# Behavior alternatives\u001b[0m\u001b[0;34m\u001b[0m\u001b[0;34m\u001b[0m\u001b[0m\n\u001b[1;32m      3\u001b[0m                         \u001b[0moutboundAttractionDistribution\u001b[0m\u001b[0;34m=\u001b[0m\u001b[0;32mFalse\u001b[0m\u001b[0;34m,\u001b[0m  \u001b[0;31m# Dissuade hubs\u001b[0m\u001b[0;34m\u001b[0m\u001b[0;34m\u001b[0m\u001b[0m\n\u001b[1;32m      4\u001b[0m                         \u001b[0mlinLogMode\u001b[0m \u001b[0;34m=\u001b[0m \u001b[0;32mFalse\u001b[0m\u001b[0;34m,\u001b[0m\u001b[0;34m\u001b[0m\u001b[0;34m\u001b[0m\u001b[0m\n\u001b[1;32m      5\u001b[0m                         \u001b[0madjustSizes\u001b[0m \u001b[0;34m=\u001b[0m \u001b[0;32mFalse\u001b[0m\u001b[0;34m,\u001b[0m\u001b[0;34m\u001b[0m\u001b[0;34m\u001b[0m\u001b[0m\n",
      "\u001b[0;31mNameError\u001b[0m: name 'ForceAtlas2' is not defined"
     ]
    }
   ],
   "source": [
    "forceatlas2 = ForceAtlas2(\n",
    "                        # Behavior alternatives\n",
    "                        outboundAttractionDistribution=False,  # Dissuade hubs\n",
    "                        linLogMode = False,  \n",
    "                        adjustSizes = False,\n",
    "                        #edgeWeightInfluence = 0.1,\n",
    "\n",
    "                        # Performance\n",
    "                        jitterTolerance = 1.0,  # Tolerance\n",
    "                        barnesHutOptimize = True,\n",
    "                        barnesHutTheta = 1.2,\n",
    "                        multiThreaded = False,\n",
    "\n",
    "                        # Tuning\n",
    "                        scalingRatio=0.0001,\n",
    "                        strongGravityMode=False,\n",
    "                        gravity=2, # attracts nodes to the center\n",
    "\n",
    "                        # Log\n",
    "                        verbose=True)"
   ]
  },
  {
   "cell_type": "code",
   "execution_count": 75,
   "id": "af5444ac",
   "metadata": {
    "cell_id": "00008-0f20804d-520d-4a34-aa48-b39a02d5eb87",
    "deepnote_cell_type": "code",
    "deepnote_output_heights": [
     607,
     611,
     611
    ],
    "deepnote_to_be_reexecuted": false,
    "execution_millis": 2393,
    "execution_start": 1638366204967,
    "source_hash": "26af48c7"
   },
   "outputs": [
    {
     "name": "stdout",
     "output_type": "stream",
     "text": [
      "#631845\n"
     ]
    },
    {
     "ename": "NameError",
     "evalue": "name 'positions' is not defined",
     "output_type": "error",
     "traceback": [
      "\u001b[0;31m---------------------------------------------------------------------------\u001b[0m",
      "\u001b[0;31mNameError\u001b[0m                                 Traceback (most recent call last)",
      "\u001b[0;32m/var/folders/bg/jsf24hsj1ln_rl_40sb3wnj00000gn/T/ipykernel_46699/3302667041.py\u001b[0m in \u001b[0;36m<module>\u001b[0;34m\u001b[0m\n\u001b[1;32m     14\u001b[0m     \u001b[0mweights\u001b[0m \u001b[0;34m=\u001b[0m \u001b[0;34m[\u001b[0m\u001b[0mGCC\u001b[0m\u001b[0;34m.\u001b[0m\u001b[0mnodes\u001b[0m\u001b[0;34m(\u001b[0m\u001b[0mdata\u001b[0m\u001b[0;34m=\u001b[0m\u001b[0;32mTrue\u001b[0m\u001b[0;34m)\u001b[0m\u001b[0;34m[\u001b[0m\u001b[0mnode\u001b[0m\u001b[0;34m]\u001b[0m\u001b[0;34m[\u001b[0m\u001b[0;34m'size'\u001b[0m\u001b[0;34m]\u001b[0m \u001b[0;32mfor\u001b[0m \u001b[0mnode\u001b[0m \u001b[0;32min\u001b[0m \u001b[0mlist_nodes\u001b[0m\u001b[0;34m]\u001b[0m\u001b[0;34m\u001b[0m\u001b[0;34m\u001b[0m\u001b[0m\n\u001b[1;32m     15\u001b[0m     \u001b[0mprint\u001b[0m\u001b[0;34m(\u001b[0m\u001b[0mcolors\u001b[0m\u001b[0;34m[\u001b[0m\u001b[0mcom\u001b[0m\u001b[0;34m]\u001b[0m\u001b[0;34m)\u001b[0m\u001b[0;34m\u001b[0m\u001b[0;34m\u001b[0m\u001b[0m\n\u001b[0;32m---> 16\u001b[0;31m     \u001b[0mnx\u001b[0m\u001b[0;34m.\u001b[0m\u001b[0mdraw_networkx_nodes\u001b[0m\u001b[0;34m(\u001b[0m\u001b[0mGCC\u001b[0m\u001b[0;34m,\u001b[0m \u001b[0mpositions\u001b[0m\u001b[0;34m,\u001b[0m \u001b[0mlist_nodes\u001b[0m\u001b[0;34m,\u001b[0m \u001b[0mnode_size\u001b[0m \u001b[0;34m=\u001b[0m \u001b[0mweights\u001b[0m\u001b[0;34m,\u001b[0m \u001b[0mnode_color\u001b[0m\u001b[0;34m=\u001b[0m\u001b[0mcolors\u001b[0m\u001b[0;34m[\u001b[0m\u001b[0mcom\u001b[0m\u001b[0;34m]\u001b[0m\u001b[0;34m)\u001b[0m\u001b[0;34m\u001b[0m\u001b[0;34m\u001b[0m\u001b[0m\n\u001b[0m\u001b[1;32m     17\u001b[0m \u001b[0;34m\u001b[0m\u001b[0m\n\u001b[1;32m     18\u001b[0m \u001b[0mnx\u001b[0m\u001b[0;34m.\u001b[0m\u001b[0mdraw_networkx_edges\u001b[0m\u001b[0;34m(\u001b[0m\u001b[0mGCC\u001b[0m\u001b[0;34m,\u001b[0m \u001b[0mpositions\u001b[0m\u001b[0;34m,\u001b[0m \u001b[0medge_color\u001b[0m\u001b[0;34m=\u001b[0m\u001b[0;34m\"gray\"\u001b[0m\u001b[0;34m,\u001b[0m \u001b[0malpha\u001b[0m\u001b[0;34m=\u001b[0m\u001b[0;36m0.1\u001b[0m\u001b[0;34m)\u001b[0m\u001b[0;34m\u001b[0m\u001b[0;34m\u001b[0m\u001b[0m\n",
      "\u001b[0;31mNameError\u001b[0m: name 'positions' is not defined"
     ]
    },
    {
     "data": {
      "text/plain": [
       "<Figure size 1080x1080 with 0 Axes>"
      ]
     },
     "metadata": {},
     "output_type": "display_data"
    }
   ],
   "source": [
    "# get node size\n",
    "sizes = list(nx.get_node_attributes(GCC,'size').values())\n",
    "\n",
    "count = 0\n",
    "fig = plt.figure(figsize = (15,15))\n",
    "fig.patch.set_facecolor('silver')\n",
    "\n",
    "# get positions\n",
    "#positions = forceatlas2.forceatlas2_networkx_layout(GCC, pos = None, iterations = 1000)\n",
    "\n",
    "for com in communities:\n",
    "    count = count + 1.\n",
    "    list_nodes = [node for node in GCC.nodes() if node in partition[com]]\n",
    "    weights = [GCC.nodes(data=True)[node]['size'] for node in list_nodes]\n",
    "    print(colors[com])\n",
    "    nx.draw_networkx_nodes(GCC, positions, list_nodes, node_size = weights, node_color=colors[com])\n",
    "\n",
    "nx.draw_networkx_edges(GCC, positions, edge_color=\"gray\", alpha=0.1)\n",
    "plt.axis('off')\n",
    "plt.show()"
   ]
  },
  {
   "cell_type": "code",
   "execution_count": 76,
   "id": "12c3b771",
   "metadata": {
    "cell_id": "00010-5fbb92b0-a150-46b8-ba72-8d46ae0d7490",
    "deepnote_cell_type": "code",
    "deepnote_output_heights": [
     611
    ],
    "deepnote_to_be_reexecuted": false,
    "execution_millis": 2,
    "execution_start": 1638366769076,
    "source_hash": "57d1fcb3",
    "tags": []
   },
   "outputs": [],
   "source": [
    "com_dict = []\n",
    "for key,val in partition.items():\n",
    "    com_dict.append(set(val))"
   ]
  },
  {
   "cell_type": "code",
   "execution_count": 95,
   "id": "1d6abf87",
   "metadata": {},
   "outputs": [
    {
     "data": {
      "text/plain": [
       "['unknown',\n",
       " 'Human',\n",
       " 'Amortality',\n",
       " 'Owl',\n",
       " 'Hag',\n",
       " 'Banshee',\n",
       " 'Dragon',\n",
       " 'Veela',\n",
       " 'Half-breed',\n",
       " 'Doxy',\n",
       " 'Part elf',\n",
       " 'Fairy',\n",
       " 'Giant',\n",
       " 'Werewolf',\n",
       " 'Goblin',\n",
       " 'House-elf',\n",
       " 'Mouse',\n",
       " 'Zouwu',\n",
       " 'Dog',\n",
       " 'Bowtruckle',\n",
       " 'Selkie',\n",
       " 'Kneazle',\n",
       " 'Acromantula',\n",
       " 'Cat',\n",
       " 'Donkey',\n",
       " 'Merpeople',\n",
       " 'Vampire',\n",
       " 'Basilisk',\n",
       " 'Chimaera',\n",
       " 'Sphinx',\n",
       " 'Occamy',\n",
       " 'Thestral',\n",
       " 'Chicken',\n",
       " 'Sheep',\n",
       " 'Spider',\n",
       " 'Peacock',\n",
       " 'Chupacabra',\n",
       " 'Pygmy Puff',\n",
       " 'Centaur',\n",
       " 'Fruit bat',\n",
       " 'Rabbit',\n",
       " 'Boa constrictor',\n",
       " 'Wolf',\n",
       " 'Hippogriff',\n",
       " 'Quintaped',\n",
       " 'Toad',\n",
       " 'Demiguise',\n",
       " 'Shrunken head',\n",
       " 'Ghost',\n",
       " 'Phoenix',\n",
       " 'Three-headed dog',\n",
       " 'Thunderbird',\n",
       " 'Gorilla',\n",
       " 'Poltergeist',\n",
       " 'Augurey',\n",
       " 'Crab',\n",
       " 'Imp',\n",
       " 'Knarl',\n",
       " 'Manticore',\n",
       " 'Niffler',\n",
       " 'Red Cap',\n",
       " 'Crup',\n",
       " 'Frog',\n",
       " 'Wampus cat',\n",
       " 'Ghoul',\n",
       " 'Pukwudgie',\n",
       " 'Abraxan',\n",
       " 'Ferret',\n",
       " 'Budgerigar',\n",
       " 'Pony',\n",
       " 'Bird',\n",
       " 'Parrot',\n",
       " 'Tortoise',\n",
       " 'Mooncalf',\n",
       " 'Troll',\n",
       " 'Fox',\n",
       " 'Rat',\n",
       " 'Snake',\n",
       " 'Goat',\n",
       " 'Giant Squid',\n",
       " 'Tarantula',\n",
       " 'Kelpie',\n",
       " 'Adder',\n",
       " 'Newt',\n",
       " 'Hippopotamus',\n",
       " 'Tiger',\n",
       " 'Elephant',\n",
       " 'Sea serpent',\n",
       " 'Animal ghost',\n",
       " 'Griffin',\n",
       " 'Unicorn',\n",
       " 'Hummingbird',\n",
       " 'Crow',\n",
       " 'Ogre',\n",
       " 'Puffskein']"
      ]
     },
     "execution_count": 95,
     "metadata": {},
     "output_type": "execute_result"
    }
   ],
   "source": [
    "communities"
   ]
  },
  {
   "cell_type": "code",
   "execution_count": 96,
   "id": "816fcbcb",
   "metadata": {},
   "outputs": [
    {
     "data": {
      "text/plain": [
       "{'species': 'Half-Veela',\n",
       " 'gender': 'Female',\n",
       " 'house': 'unknown',\n",
       " 'blood': 'unknown',\n",
       " 'color': 'grey',\n",
       " 'in_degree': 77,\n",
       " 'out_degree': 52,\n",
       " 'degree': 129,\n",
       " 'size': 645,\n",
       " 'pos': (0.3937368033074402, -0.054132066378430696)}"
      ]
     },
     "execution_count": 96,
     "metadata": {},
     "output_type": "execute_result"
    }
   ],
   "source": [
    "GCC.nodes(data=True)['Fleur Delacour']"
   ]
  },
  {
   "cell_type": "code",
   "execution_count": 87,
   "id": "7d7d572f",
   "metadata": {},
   "outputs": [],
   "source": [
    "inv_partition = {l: k for k, v in partition.items() for l in v}\n"
   ]
  },
  {
   "cell_type": "code",
   "execution_count": 88,
   "id": "603e6403",
   "metadata": {
    "cell_id": "00010-a1f6b883-761a-4c69-a51f-70c8e96adb0e",
    "deepnote_cell_type": "code",
    "deepnote_to_be_reexecuted": false,
    "execution_millis": 18,
    "execution_start": 1638366864189,
    "source_hash": "9f451c61",
    "tags": []
   },
   "outputs": [
    {
     "ename": "KeyError",
     "evalue": "'Fleur Delacour'",
     "output_type": "error",
     "traceback": [
      "\u001b[0;31m---------------------------------------------------------------------------\u001b[0m",
      "\u001b[0;31mKeyError\u001b[0m                                  Traceback (most recent call last)",
      "\u001b[0;32m/var/folders/bg/jsf24hsj1ln_rl_40sb3wnj00000gn/T/ipykernel_46699/2382361887.py\u001b[0m in \u001b[0;36m<module>\u001b[0;34m\u001b[0m\n\u001b[1;32m      3\u001b[0m \u001b[0;34m\u001b[0m\u001b[0m\n\u001b[1;32m      4\u001b[0m \u001b[0;32mimport\u001b[0m \u001b[0mcommunity\u001b[0m\u001b[0;34m\u001b[0m\u001b[0;34m\u001b[0m\u001b[0m\n\u001b[0;32m----> 5\u001b[0;31m \u001b[0mmod\u001b[0m \u001b[0;34m=\u001b[0m \u001b[0mcommunity\u001b[0m\u001b[0;34m.\u001b[0m\u001b[0mmodularity\u001b[0m\u001b[0;34m(\u001b[0m\u001b[0minv_partition\u001b[0m\u001b[0;34m,\u001b[0m \u001b[0mGCC\u001b[0m\u001b[0;34m)\u001b[0m\u001b[0;34m\u001b[0m\u001b[0;34m\u001b[0m\u001b[0m\n\u001b[0m\u001b[1;32m      6\u001b[0m \u001b[0;34m\u001b[0m\u001b[0m\n\u001b[1;32m      7\u001b[0m \u001b[0;31m#nx_comm.modularity(GCC, com_dict)\u001b[0m\u001b[0;34m\u001b[0m\u001b[0;34m\u001b[0m\u001b[0m\n",
      "\u001b[0;32m~/opt/anaconda3/envs/SG21/lib/python3.9/site-packages/community/community_louvain.py\u001b[0m in \u001b[0;36mmodularity\u001b[0;34m(partition, graph, weight)\u001b[0m\n\u001b[1;32m    148\u001b[0m         \u001b[0;32mfor\u001b[0m \u001b[0mneighbor\u001b[0m\u001b[0;34m,\u001b[0m \u001b[0mdatas\u001b[0m \u001b[0;32min\u001b[0m \u001b[0mgraph\u001b[0m\u001b[0;34m[\u001b[0m\u001b[0mnode\u001b[0m\u001b[0;34m]\u001b[0m\u001b[0;34m.\u001b[0m\u001b[0mitems\u001b[0m\u001b[0;34m(\u001b[0m\u001b[0;34m)\u001b[0m\u001b[0;34m:\u001b[0m\u001b[0;34m\u001b[0m\u001b[0;34m\u001b[0m\u001b[0m\n\u001b[1;32m    149\u001b[0m             \u001b[0medge_weight\u001b[0m \u001b[0;34m=\u001b[0m \u001b[0mdatas\u001b[0m\u001b[0;34m.\u001b[0m\u001b[0mget\u001b[0m\u001b[0;34m(\u001b[0m\u001b[0mweight\u001b[0m\u001b[0;34m,\u001b[0m \u001b[0;36m1\u001b[0m\u001b[0;34m)\u001b[0m\u001b[0;34m\u001b[0m\u001b[0;34m\u001b[0m\u001b[0m\n\u001b[0;32m--> 150\u001b[0;31m             \u001b[0;32mif\u001b[0m \u001b[0mpartition\u001b[0m\u001b[0;34m[\u001b[0m\u001b[0mneighbor\u001b[0m\u001b[0;34m]\u001b[0m \u001b[0;34m==\u001b[0m \u001b[0mcom\u001b[0m\u001b[0;34m:\u001b[0m\u001b[0;34m\u001b[0m\u001b[0;34m\u001b[0m\u001b[0m\n\u001b[0m\u001b[1;32m    151\u001b[0m                 \u001b[0;32mif\u001b[0m \u001b[0mneighbor\u001b[0m \u001b[0;34m==\u001b[0m \u001b[0mnode\u001b[0m\u001b[0;34m:\u001b[0m\u001b[0;34m\u001b[0m\u001b[0;34m\u001b[0m\u001b[0m\n\u001b[1;32m    152\u001b[0m                     \u001b[0minc\u001b[0m\u001b[0;34m[\u001b[0m\u001b[0mcom\u001b[0m\u001b[0;34m]\u001b[0m \u001b[0;34m=\u001b[0m \u001b[0minc\u001b[0m\u001b[0;34m.\u001b[0m\u001b[0mget\u001b[0m\u001b[0;34m(\u001b[0m\u001b[0mcom\u001b[0m\u001b[0;34m,\u001b[0m \u001b[0;36m0.\u001b[0m\u001b[0;34m)\u001b[0m \u001b[0;34m+\u001b[0m \u001b[0mfloat\u001b[0m\u001b[0;34m(\u001b[0m\u001b[0medge_weight\u001b[0m\u001b[0;34m)\u001b[0m\u001b[0;34m\u001b[0m\u001b[0;34m\u001b[0m\u001b[0m\n",
      "\u001b[0;31mKeyError\u001b[0m: 'Fleur Delacour'"
     ]
    }
   ],
   "source": [
    "# Measure quality of partition\n",
    "import networkx.algorithms.community as nx_comm\n",
    "\n",
    "import community \n",
    "mod = community.modularity(inv_partition, GCC)\n",
    "\n",
    "#nx_comm.modularity(GCC, com_dict) "
   ]
  },
  {
   "cell_type": "code",
   "execution_count": 78,
   "id": "d80ee9d8",
   "metadata": {
    "cell_id": "00009-1fc76575-f839-497b-9061-2099e825cc2e",
    "deepnote_cell_type": "code",
    "deepnote_output_heights": [
     306
    ],
    "deepnote_to_be_reexecuted": false,
    "execution_millis": 92,
    "execution_start": 1638366597834,
    "source_hash": "d26c6ebd",
    "tags": []
   },
   "outputs": [
    {
     "name": "stdout",
     "output_type": "stream",
     "text": [
      "Modularity for the partition is 0.79979390736417\n"
     ]
    }
   ],
   "source": [
    "def get_modularity(G, partition):\n",
    "    n_c = len(partition)\n",
    "    L = G.number_of_edges()\n",
    "    M = 0\n",
    "\n",
    "    for com in partition.keys():\n",
    "        A = G.subgraph(partition[com])\n",
    "        k_c = A.number_of_nodes()\n",
    "        L_c = A.number_of_edges()\n",
    "        M += (L_c/L) - (k_c/(2*L))**2\n",
    "\n",
    "    return M\n",
    "\n",
    "modularity = get_modularity(GCC, partition) \n",
    "print('Modularity for the partition is {}'.format(modularity))"
   ]
  },
  {
   "cell_type": "code",
   "execution_count": 79,
   "id": "faff1ce8",
   "metadata": {
    "cell_id": "00012-09c306fe-70ec-4431-8c16-2568aa20fa50",
    "deepnote_cell_type": "code",
    "deepnote_to_be_reexecuted": false,
    "execution_millis": 19,
    "execution_start": 1638366615223,
    "source_hash": "a1127f1f",
    "tags": []
   },
   "outputs": [
    {
     "ename": "NotAPartition",
     "evalue": "Graph with 2747 nodes and 13198 edges is not a valid partition of the graph ['unknown', 'Human', 'Amortality', 'Owl', 'Hag', 'Banshee', 'Dragon', 'Veela', 'Half-breed', 'Doxy', 'Part elf', 'Fairy', 'Giant', 'Werewolf', 'Goblin', 'House-elf', 'Mouse', 'Zouwu', 'Dog', 'Bowtruckle', 'Selkie', 'Kneazle', 'Acromantula', 'Cat', 'Donkey', 'Merpeople', 'Vampire', 'Basilisk', 'Chimaera', 'Sphinx', 'Occamy', 'Thestral', 'Chicken', 'Sheep', 'Spider', 'Peacock', 'Chupacabra', 'Pygmy Puff', 'Centaur', 'Fruit bat', 'Rabbit', 'Boa constrictor', 'Wolf', 'Hippogriff', 'Quintaped', 'Toad', 'Demiguise', 'Shrunken head', 'Ghost', 'Phoenix', 'Three-headed dog', 'Thunderbird', 'Gorilla', 'Poltergeist', 'Augurey', 'Crab', 'Imp', 'Knarl', 'Manticore', 'Niffler', 'Red Cap', 'Crup', 'Frog', 'Wampus cat', 'Ghoul', 'Pukwudgie', 'Abraxan', 'Ferret', 'Budgerigar', 'Pony', 'Bird', 'Parrot', 'Tortoise', 'Mooncalf', 'Troll', 'Fox', 'Rat', 'Snake', 'Goat', 'Giant Squid', 'Tarantula', 'Kelpie', 'Adder', 'Newt', 'Hippopotamus', 'Tiger', 'Elephant', 'Sea serpent', 'Animal ghost', 'Griffin', 'Unicorn', 'Hummingbird', 'Crow', 'Ogre', 'Puffskein']",
     "output_type": "error",
     "traceback": [
      "\u001b[0;31m---------------------------------------------------------------------------\u001b[0m",
      "\u001b[0;31mNotAPartition\u001b[0m                             Traceback (most recent call last)",
      "\u001b[0;32m/var/folders/bg/jsf24hsj1ln_rl_40sb3wnj00000gn/T/ipykernel_46699/1664165198.py\u001b[0m in \u001b[0;36m<module>\u001b[0;34m\u001b[0m\n\u001b[0;32m----> 1\u001b[0;31m \u001b[0mnx_comm\u001b[0m\u001b[0;34m.\u001b[0m\u001b[0mmodularity\u001b[0m\u001b[0;34m(\u001b[0m\u001b[0mGCC\u001b[0m\u001b[0;34m,\u001b[0m \u001b[0mcommunities\u001b[0m\u001b[0;34m)\u001b[0m\u001b[0;34m\u001b[0m\u001b[0;34m\u001b[0m\u001b[0m\n\u001b[0m",
      "\u001b[0;32m~/opt/anaconda3/envs/SG21/lib/python3.9/site-packages/networkx/algorithms/community/quality.py\u001b[0m in \u001b[0;36mmodularity\u001b[0;34m(G, communities, weight, resolution)\u001b[0m\n\u001b[1;32m    328\u001b[0m         \u001b[0mcommunities\u001b[0m \u001b[0;34m=\u001b[0m \u001b[0mlist\u001b[0m\u001b[0;34m(\u001b[0m\u001b[0mcommunities\u001b[0m\u001b[0;34m)\u001b[0m\u001b[0;34m\u001b[0m\u001b[0;34m\u001b[0m\u001b[0m\n\u001b[1;32m    329\u001b[0m     \u001b[0;32mif\u001b[0m \u001b[0;32mnot\u001b[0m \u001b[0mis_partition\u001b[0m\u001b[0;34m(\u001b[0m\u001b[0mG\u001b[0m\u001b[0;34m,\u001b[0m \u001b[0mcommunities\u001b[0m\u001b[0;34m)\u001b[0m\u001b[0;34m:\u001b[0m\u001b[0;34m\u001b[0m\u001b[0;34m\u001b[0m\u001b[0m\n\u001b[0;32m--> 330\u001b[0;31m         \u001b[0;32mraise\u001b[0m \u001b[0mNotAPartition\u001b[0m\u001b[0;34m(\u001b[0m\u001b[0mG\u001b[0m\u001b[0;34m,\u001b[0m \u001b[0mcommunities\u001b[0m\u001b[0;34m)\u001b[0m\u001b[0;34m\u001b[0m\u001b[0;34m\u001b[0m\u001b[0m\n\u001b[0m\u001b[1;32m    331\u001b[0m \u001b[0;34m\u001b[0m\u001b[0m\n\u001b[1;32m    332\u001b[0m     \u001b[0mdirected\u001b[0m \u001b[0;34m=\u001b[0m \u001b[0mG\u001b[0m\u001b[0;34m.\u001b[0m\u001b[0mis_directed\u001b[0m\u001b[0;34m(\u001b[0m\u001b[0;34m)\u001b[0m\u001b[0;34m\u001b[0m\u001b[0;34m\u001b[0m\u001b[0m\n",
      "\u001b[0;31mNotAPartition\u001b[0m: Graph with 2747 nodes and 13198 edges is not a valid partition of the graph ['unknown', 'Human', 'Amortality', 'Owl', 'Hag', 'Banshee', 'Dragon', 'Veela', 'Half-breed', 'Doxy', 'Part elf', 'Fairy', 'Giant', 'Werewolf', 'Goblin', 'House-elf', 'Mouse', 'Zouwu', 'Dog', 'Bowtruckle', 'Selkie', 'Kneazle', 'Acromantula', 'Cat', 'Donkey', 'Merpeople', 'Vampire', 'Basilisk', 'Chimaera', 'Sphinx', 'Occamy', 'Thestral', 'Chicken', 'Sheep', 'Spider', 'Peacock', 'Chupacabra', 'Pygmy Puff', 'Centaur', 'Fruit bat', 'Rabbit', 'Boa constrictor', 'Wolf', 'Hippogriff', 'Quintaped', 'Toad', 'Demiguise', 'Shrunken head', 'Ghost', 'Phoenix', 'Three-headed dog', 'Thunderbird', 'Gorilla', 'Poltergeist', 'Augurey', 'Crab', 'Imp', 'Knarl', 'Manticore', 'Niffler', 'Red Cap', 'Crup', 'Frog', 'Wampus cat', 'Ghoul', 'Pukwudgie', 'Abraxan', 'Ferret', 'Budgerigar', 'Pony', 'Bird', 'Parrot', 'Tortoise', 'Mooncalf', 'Troll', 'Fox', 'Rat', 'Snake', 'Goat', 'Giant Squid', 'Tarantula', 'Kelpie', 'Adder', 'Newt', 'Hippopotamus', 'Tiger', 'Elephant', 'Sea serpent', 'Animal ghost', 'Griffin', 'Unicorn', 'Hummingbird', 'Crow', 'Ogre', 'Puffskein']"
     ]
    }
   ],
   "source": [
    "nx_comm.modularity(GCC, communities)"
   ]
  },
  {
   "cell_type": "code",
   "execution_count": 147,
   "id": "de960015",
   "metadata": {
    "cell_id": "00010-43905214-ffa1-48a1-bdb5-761050d80de8",
    "deepnote_cell_type": "code",
    "deepnote_output_heights": [
     78
    ],
    "deepnote_to_be_reexecuted": false,
    "execution_millis": 1,
    "execution_start": 1638364767640,
    "source_hash": "3ff7caf"
   },
   "outputs": [],
   "source": [
    "# Measure quality of partition\n",
    "import networkx.algorithms.community as nx_comm\n",
    "\n",
    "def quality_of_partition(G, partition):\n",
    "    #coverage = nx.coverage(G, partition) #Returns the coverage of a partition.\n",
    "    modularity = nx_comm.modularity(G, communities) #Returns the modularity of the given partition of the graph.\n",
    "    #partition_quality = partition_quality(G, partition)# Returns the coverage and performance of a partition of G.\n",
    "    #performance = performance(G, partition)\n",
    "    \n",
    "    metrics = {\"coverage\":coverage,\"modularity\":modularity, \"partition_quality\":partition_quality,\"performance\":performance  }\n",
    "    return metrics"
   ]
  },
  {
   "cell_type": "code",
   "execution_count": null,
   "id": "23d450d3",
   "metadata": {
    "cell_id": "00011-8930a090-6fed-4278-94e4-bd969ab922c3",
    "deepnote_cell_type": "code",
    "tags": []
   },
   "outputs": [],
   "source": []
  },
  {
   "cell_type": "markdown",
   "id": "b47f1b01",
   "metadata": {
    "created_in_deepnote_cell": true,
    "deepnote_cell_type": "markdown",
    "tags": []
   },
   "source": [
    "<a style='text-decoration:none;line-height:16px;display:flex;color:#5B5B62;padding:10px;justify-content:end;' href='https://deepnote.com?utm_source=created-in-deepnote-cell&projectId=160b1b0f-c982-4c5c-bddd-69f07a3fe7a4' target=\"_blank\">\n",
    "<img alt='Created in deepnote.com' style='display:inline;max-height:16px;margin:0px;margin-right:7.5px;' src='data:image/svg+xml;base64,PD94bWwgdmVyc2lvbj0iMS4wIiBlbmNvZGluZz0iVVRGLTgiPz4KPHN2ZyB3aWR0aD0iODBweCIgaGVpZ2h0PSI4MHB4IiB2aWV3Qm94PSIwIDAgODAgODAiIHZlcnNpb249IjEuMSIgeG1sbnM9Imh0dHA6Ly93d3cudzMub3JnLzIwMDAvc3ZnIiB4bWxuczp4bGluaz0iaHR0cDovL3d3dy53My5vcmcvMTk5OS94bGluayI+CiAgICA8IS0tIEdlbmVyYXRvcjogU2tldGNoIDU0LjEgKDc2NDkwKSAtIGh0dHBzOi8vc2tldGNoYXBwLmNvbSAtLT4KICAgIDx0aXRsZT5Hcm91cCAzPC90aXRsZT4KICAgIDxkZXNjPkNyZWF0ZWQgd2l0aCBTa2V0Y2guPC9kZXNjPgogICAgPGcgaWQ9IkxhbmRpbmciIHN0cm9rZT0ibm9uZSIgc3Ryb2tlLXdpZHRoPSIxIiBmaWxsPSJub25lIiBmaWxsLXJ1bGU9ImV2ZW5vZGQiPgogICAgICAgIDxnIGlkPSJBcnRib2FyZCIgdHJhbnNmb3JtPSJ0cmFuc2xhdGUoLTEyMzUuMDAwMDAwLCAtNzkuMDAwMDAwKSI+CiAgICAgICAgICAgIDxnIGlkPSJHcm91cC0zIiB0cmFuc2Zvcm09InRyYW5zbGF0ZSgxMjM1LjAwMDAwMCwgNzkuMDAwMDAwKSI+CiAgICAgICAgICAgICAgICA8cG9seWdvbiBpZD0iUGF0aC0yMCIgZmlsbD0iIzAyNjVCNCIgcG9pbnRzPSIyLjM3NjIzNzYyIDgwIDM4LjA0NzY2NjcgODAgNTcuODIxNzgyMiA3My44MDU3NTkyIDU3LjgyMTc4MjIgMzIuNzU5MjczOSAzOS4xNDAyMjc4IDMxLjY4MzE2ODMiPjwvcG9seWdvbj4KICAgICAgICAgICAgICAgIDxwYXRoIGQ9Ik0zNS4wMDc3MTgsODAgQzQyLjkwNjIwMDcsNzYuNDU0OTM1OCA0Ny41NjQ5MTY3LDcxLjU0MjI2NzEgNDguOTgzODY2LDY1LjI2MTk5MzkgQzUxLjExMjI4OTksNTUuODQxNTg0MiA0MS42NzcxNzk1LDQ5LjIxMjIyODQgMjUuNjIzOTg0Niw0OS4yMTIyMjg0IEMyNS40ODQ5Mjg5LDQ5LjEyNjg0NDggMjkuODI2MTI5Niw0My4yODM4MjQ4IDM4LjY0NzU4NjksMzEuNjgzMTY4MyBMNzIuODcxMjg3MSwzMi41NTQ0MjUgTDY1LjI4MDk3Myw2Ny42NzYzNDIxIEw1MS4xMTIyODk5LDc3LjM3NjE0NCBMMzUuMDA3NzE4LDgwIFoiIGlkPSJQYXRoLTIyIiBmaWxsPSIjMDAyODY4Ij48L3BhdGg+CiAgICAgICAgICAgICAgICA8cGF0aCBkPSJNMCwzNy43MzA0NDA1IEwyNy4xMTQ1MzcsMC4yNTcxMTE0MzYgQzYyLjM3MTUxMjMsLTEuOTkwNzE3MDEgODAsMTAuNTAwMzkyNyA4MCwzNy43MzA0NDA1IEM4MCw2NC45NjA0ODgyIDY0Ljc3NjUwMzgsNzkuMDUwMzQxNCAzNC4zMjk1MTEzLDgwIEM0Ny4wNTUzNDg5LDc3LjU2NzA4MDggNTMuNDE4MjY3Nyw3MC4zMTM2MTAzIDUzLjQxODI2NzcsNTguMjM5NTg4NSBDNTMuNDE4MjY3Nyw0MC4xMjg1NTU3IDM2LjMwMzk1NDQsMzcuNzMwNDQwNSAyNS4yMjc0MTcsMzcuNzMwNDQwNSBDMTcuODQzMDU4NiwzNy43MzA0NDA1IDkuNDMzOTE5NjYsMzcuNzMwNDQwNSAwLDM3LjczMDQ0MDUgWiIgaWQ9IlBhdGgtMTkiIGZpbGw9IiMzNzkzRUYiPjwvcGF0aD4KICAgICAgICAgICAgPC9nPgogICAgICAgIDwvZz4KICAgIDwvZz4KPC9zdmc+' > </img>\n",
    "Created in <span style='font-weight:600;margin-left:4px;'>Deepnote</span></a>"
   ]
  }
 ],
 "metadata": {
  "deepnote": {},
  "deepnote_execution_queue": [],
  "deepnote_notebook_id": "ef7bf64d-f126-4a53-9ceb-99feb8400865",
  "kernelspec": {
   "display_name": "Python 3 (ipykernel)",
   "language": "python",
   "name": "python3"
  },
  "language_info": {
   "codemirror_mode": {
    "name": "ipython",
    "version": 3
   },
   "file_extension": ".py",
   "mimetype": "text/x-python",
   "name": "python",
   "nbconvert_exporter": "python",
   "pygments_lexer": "ipython3",
   "version": "3.9.7"
  }
 },
 "nbformat": 4,
 "nbformat_minor": 5
}
